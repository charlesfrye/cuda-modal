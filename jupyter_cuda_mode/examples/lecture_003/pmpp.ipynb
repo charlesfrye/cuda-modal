{
 "cells": [
  {
   "cell_type": "markdown",
   "id": "ab915a45",
   "metadata": {},
   "source": [
    "For a walkthrough of this notebook, see the YouTube video below."
   ]
  },
  {
   "cell_type": "code",
   "execution_count": null,
   "id": "f726bc56",
   "metadata": {},
   "outputs": [],
   "source": [
    "import IPython\n",
    "\n",
    "jeremy_walkthrough_url = \"https://www.youtube.com/watch?v=nOxKexn3iBo\"\n",
    "\n",
    "IPython.display.YouTubeVideo(id=jeremy_walkthrough_url.split(\"?v=\")[1])"
   ]
  },
  {
   "cell_type": "markdown",
   "id": "b34981f1-9278-4ee8-a2de-57c6245041a7",
   "metadata": {},
   "source": [
    "# Getting started with CUDA"
   ]
  },
  {
   "cell_type": "markdown",
   "id": "21fce84e-7b13-446e-9504-eb037dc26d03",
   "metadata": {},
   "source": [
    "## Setup"
   ]
  },
  {
   "cell_type": "code",
   "execution_count": null,
   "id": "f92d55a1-7ded-4a1d-9615-4e12b7084134",
   "metadata": {},
   "outputs": [],
   "source": [
    "import torch, os, math\n",
    "import torchvision as tv\n",
    "import torchvision.transforms.functional as tvf\n",
    "from torchvision import io\n",
    "import matplotlib.pyplot as plt\n",
    "from torch.utils.cpp_extension import load_inline"
   ]
  },
  {
   "cell_type": "code",
   "execution_count": null,
   "id": "6311648d-e9a4-4808-9ff3-87113e10f755",
   "metadata": {},
   "outputs": [],
   "source": [
    "img = io.read_image('puppy.jpg')\n",
    "print(img.shape)\n",
    "img[:2,:3,:4]"
   ]
  },
  {
   "cell_type": "code",
   "execution_count": null,
   "id": "ac9e776b-62a7-441f-a15f-dbe5a3c63502",
   "metadata": {},
   "outputs": [],
   "source": [
    "def show_img(x, figsize=(4,3), **kwargs):\n",
    "    plt.figure(figsize=figsize)\n",
    "    plt.axis('off')\n",
    "    if len(x.shape)==3: x = x.permute(1,2,0)  # CHW -> HWC\n",
    "    plt.imshow(x.cpu(), **kwargs)"
   ]
  },
  {
   "cell_type": "code",
   "execution_count": null,
   "id": "4e0cbb73-db3c-4a4a-85f6-0a69c58055ad",
   "metadata": {},
   "outputs": [],
   "source": [
    "img2 = tvf.resize(img, 150, antialias=True)\n",
    "ch,h,w = img2.shape\n",
    "ch,h,w,h*w"
   ]
  },
  {
   "cell_type": "code",
   "execution_count": null,
   "id": "d2792041-5bcd-4f3b-89f2-677d8e988b4b",
   "metadata": {},
   "outputs": [],
   "source": [
    "show_img(img2)"
   ]
  },
  {
   "cell_type": "markdown",
   "id": "9f93a1e7-eeeb-465d-b831-c5fe80d3891e",
   "metadata": {},
   "source": [
    "## RGB -> Grey"
   ]
  },
  {
   "cell_type": "markdown",
   "id": "7709676c-5d33-4ee4-a541-dce6b0d705b5",
   "metadata": {},
   "source": [
    "### Basic Python"
   ]
  },
  {
   "cell_type": "code",
   "execution_count": null,
   "id": "419700a7-99be-4a5d-a900-5687c4527ad4",
   "metadata": {},
   "outputs": [],
   "source": [
    "def rgb2grey_py(x):\n",
    "    c,h,w = x.shape\n",
    "    n = h*w\n",
    "    x = x.flatten()\n",
    "    res = torch.empty(n, dtype=x.dtype, device=x.device)\n",
    "    for i in range(n): res[i] = 0.2989*x[i] + 0.5870*x[i+n] + 0.1140*x[i+2*n]\n",
    "    return res.view(h,w)"
   ]
  },
  {
   "cell_type": "code",
   "execution_count": null,
   "id": "b1f10bd8-9179-4f3f-9c46-488135561481",
   "metadata": {},
   "outputs": [],
   "source": [
    "%%time\n",
    "img_g = rgb2grey_py(img2)"
   ]
  },
  {
   "cell_type": "code",
   "execution_count": null,
   "id": "945b6f3a-724a-445c-a2a8-a29ef377ffa6",
   "metadata": {},
   "outputs": [],
   "source": [
    "show_img(img_g, cmap='gray')"
   ]
  },
  {
   "cell_type": "markdown",
   "id": "9c98fa40-8832-4360-9ddc-f0497259c41c",
   "metadata": {},
   "source": [
    "### Python Kernel"
   ]
  },
  {
   "cell_type": "code",
   "execution_count": null,
   "id": "55f69539-09f9-4cee-8a9e-e44daccc2f01",
   "metadata": {},
   "outputs": [],
   "source": [
    "def run_kernel(f, times, *args):\n",
    "    for i in range(times): f(i, *args)"
   ]
  },
  {
   "cell_type": "markdown",
   "id": "2d54b064-c465-4a8f-88d7-196f35264125",
   "metadata": {},
   "source": [
    "NB: A kernel can not return anything. It can only change contents of things passed to it."
   ]
  },
  {
   "cell_type": "code",
   "execution_count": null,
   "id": "734d9bdf-886e-4a97-b9b2-cb1be0b39099",
   "metadata": {},
   "outputs": [],
   "source": [
    "def rgb2grey_k(i, x, out, n):\n",
    "    out[i] = 0.2989*x[i] + 0.5870*x[i+n] + 0.1140*x[i+2*n]"
   ]
  },
  {
   "cell_type": "code",
   "execution_count": null,
   "id": "593b1e8f-344e-4dd7-8582-99d29a0da0c9",
   "metadata": {},
   "outputs": [],
   "source": [
    "def rgb2grey_pyk(x):\n",
    "    c,h,w = x.shape\n",
    "    n = h*w\n",
    "    x = x.flatten()\n",
    "    res = torch.empty(n, dtype=x.dtype, device=x.device)\n",
    "    run_kernel(rgb2grey_k, h*w, x, res, n)\n",
    "    return res.view(h,w)"
   ]
  },
  {
   "cell_type": "code",
   "execution_count": null,
   "id": "fbcbc99d-b781-4aa0-9b38-94428156a7e0",
   "metadata": {},
   "outputs": [],
   "source": [
    "img_g = rgb2grey_pyk(img2)\n",
    "show_img(img_g, cmap='gray')"
   ]
  },
  {
   "cell_type": "markdown",
   "id": "d9fa891f-fc66-4467-8ec7-9f075e363d73",
   "metadata": {},
   "source": [
    "### Python Block Kernel"
   ]
  },
  {
   "cell_type": "markdown",
   "id": "57d149f7-3e31-42ee-a4ff-27f0e03919a1",
   "metadata": {},
   "source": [
    "1. **Streaming Multiprocessors (SMs):** In NVIDIA GPUs, SMs are the fundamental units of execution. Each SM can execute multiple threads concurrently.\n",
    "2. **Thread Blocks:** A thread block is a group of threads that can cooperate among themselves through shared memory and synchronization. All threads in a block are executed on the same SM. This means they can share resources such as shared memory and can synchronize their execution with each other.\n",
    "3. **Shared Memory:** Shared memory is a small memory space on the GPU that is shared among the threads in a block. It is much faster than global memory (the main GPU memory), but it is also limited in size. Threads in the same block can use shared memory to share data with each other efficiently.\n",
    "\n",
    "- The RTX 3090, based on the Ampere architecture, has 82 SMs.\n",
    "- Each SM in GA10x GPUs contain 128 CUDA Cores, four third-generation Tensor Cores, a 256 KB Register File, and 128 KB of L1/Shared Memory\n",
    "- In CUDA, all threads in a block have the potential to run concurrently. However, the actual concurrency depends on the number of CUDA cores per SM and the resources required by the threads."
   ]
  },
  {
   "cell_type": "code",
   "execution_count": null,
   "id": "c2f53a65-dc84-4849-9e1a-6eab284e910e",
   "metadata": {},
   "outputs": [],
   "source": [
    "128*82"
   ]
  },
  {
   "cell_type": "code",
   "execution_count": null,
   "id": "945819c6-d417-44a5-838c-a4f7a2712ce3",
   "metadata": {},
   "outputs": [],
   "source": [
    "def blk_kernel(f, blocks, threads, *args):\n",
    "    for i in range(blocks):\n",
    "        for j in range(threads): f(i, j, threads, *args)"
   ]
  },
  {
   "cell_type": "code",
   "execution_count": null,
   "id": "90f307f4-49ba-44ca-99f2-3f65726f9eef",
   "metadata": {},
   "outputs": [],
   "source": [
    "def rgb2grey_bk(blockidx, threadidx, blockdim, x, out, n):\n",
    "    i = blockidx*blockdim + threadidx\n",
    "    if i<n: out[i] = 0.2989*x[i] + 0.5870*x[i+n] + 0.1140*x[i+2*n]"
   ]
  },
  {
   "cell_type": "code",
   "execution_count": null,
   "id": "b50d0c42-ff5b-45c8-9945-4259482c7b6b",
   "metadata": {},
   "outputs": [],
   "source": [
    "def rgb2grey_pybk(x):\n",
    "    c,h,w = x.shape\n",
    "    n = h*w\n",
    "    x = x.flatten()\n",
    "    res = torch.empty(n, dtype=x.dtype, device=x.device)\n",
    "    threads = 256\n",
    "    blocks = int(math.ceil(h*w/threads))\n",
    "    blk_kernel(rgb2grey_bk, blocks, threads, x, res, n)\n",
    "    return res.view(h,w)"
   ]
  },
  {
   "cell_type": "code",
   "execution_count": null,
   "id": "49475573-42a9-4bf1-9530-2abac2c92b2a",
   "metadata": {},
   "outputs": [],
   "source": [
    "img_g = rgb2grey_pybk(img2)\n",
    "show_img(img_g, cmap='gray')"
   ]
  },
  {
   "cell_type": "markdown",
   "id": "7ce90684-6133-477c-b71e-30815dfeb393",
   "metadata": {},
   "source": [
    "### CUDA Setup"
   ]
  },
  {
   "cell_type": "code",
   "execution_count": null,
   "id": "27d5004d-6e4b-494f-8be0-30514e17f539",
   "metadata": {},
   "outputs": [],
   "source": [
    "os.environ['CUDA_LAUNCH_BLOCKING']='1'"
   ]
  },
  {
   "cell_type": "code",
   "execution_count": null,
   "id": "e95a2197-a06f-47ee-916d-04a6928199bb",
   "metadata": {},
   "outputs": [],
   "source": [
    "%load_ext wurlitzer"
   ]
  },
  {
   "cell_type": "code",
   "execution_count": null,
   "id": "4d22883b-477a-4560-be1e-e51448ca2e25",
   "metadata": {},
   "outputs": [],
   "source": [
    "def load_cuda(cuda_src, cpp_src, funcs, opt=False, verbose=False):\n",
    "    return load_inline(cuda_sources=[cuda_src], cpp_sources=[cpp_src], functions=funcs,\n",
    "                       extra_cuda_cflags=[\"-O2\"] if opt else [], verbose=verbose, name=\"inline_ext\")"
   ]
  },
  {
   "cell_type": "code",
   "execution_count": null,
   "id": "6dbaa081-ad95-404b-ad93-0a4358bf450b",
   "metadata": {},
   "outputs": [],
   "source": [
    "cuda_begin = r'''\n",
    "#include <torch/extension.h>\n",
    "#include <stdio.h>\n",
    "#include <c10/cuda/CUDAException.h>\n",
    "\n",
    "#define CHECK_CUDA(x) TORCH_CHECK(x.device().is_cuda(), #x \" must be a CUDA tensor\")\n",
    "#define CHECK_CONTIGUOUS(x) TORCH_CHECK(x.is_contiguous(), #x \" must be contiguous\")\n",
    "#define CHECK_INPUT(x) CHECK_CUDA(x); CHECK_CONTIGUOUS(x)\n",
    "\n",
    "inline unsigned int cdiv(unsigned int a, unsigned int b) { return (a + b - 1) / b;}\n",
    "'''"
   ]
  },
  {
   "cell_type": "markdown",
   "id": "1772c7c9-7007-4436-b0be-f6e1d9fd145e",
   "metadata": {},
   "source": [
    "### CUDA kernel"
   ]
  },
  {
   "cell_type": "markdown",
   "id": "939dc782-bc15-4934-9212-92eacceb88cc",
   "metadata": {},
   "source": [
    "- 2^31 max blocks for dim 0, 2^16 max for dims 1 & 2\n",
    "- 1024 max threads per block (use a multiple of 32)"
   ]
  },
  {
   "cell_type": "code",
   "execution_count": null,
   "id": "464dd989-f035-4a11-b71a-8ae28fc7e314",
   "metadata": {},
   "outputs": [],
   "source": [
    "cuda_src = cuda_begin + r'''\n",
    "__global__ void rgb_to_grayscale_kernel(unsigned char* x, unsigned char* out, int n) {\n",
    "    int i = blockIdx.x*blockDim.x + threadIdx.x;\n",
    "    if (i<n) out[i] = 0.2989*x[i] + 0.5870*x[i+n] + 0.1140*x[i+2*n];\n",
    "}\n",
    "\n",
    "torch::Tensor rgb_to_grayscale(torch::Tensor input) {\n",
    "    CHECK_INPUT(input);\n",
    "    int h = input.size(1);\n",
    "    int w = input.size(2);\n",
    "    printf(\"h*w: %d*%d\\n\", h, w);\n",
    "    auto output = torch::empty({h,w}, input.options());\n",
    "    int threads = 256;\n",
    "    rgb_to_grayscale_kernel<<<cdiv(w*h,threads), threads>>>(\n",
    "        input.data_ptr<unsigned char>(), output.data_ptr<unsigned char>(), w*h);\n",
    "    C10_CUDA_KERNEL_LAUNCH_CHECK();\n",
    "    return output;\n",
    "}'''"
   ]
  },
  {
   "cell_type": "code",
   "execution_count": null,
   "id": "5b5f8b07-8cb3-4aa8-b2a3-2ddd3878bef2",
   "metadata": {},
   "outputs": [],
   "source": [
    "cpp_src = \"torch::Tensor rgb_to_grayscale(torch::Tensor input);\""
   ]
  },
  {
   "cell_type": "code",
   "execution_count": null,
   "id": "06af71ec-3578-4aa9-8949-2cd3e615b534",
   "metadata": {},
   "outputs": [],
   "source": [
    "module = load_cuda(cuda_src, cpp_src, ['rgb_to_grayscale'], verbose=True)"
   ]
  },
  {
   "cell_type": "code",
   "execution_count": null,
   "id": "2c07b443-f565-4527-91c6-348f35c6c544",
   "metadata": {},
   "outputs": [],
   "source": [
    "[o for o in dir(module) if o[0]!='_']"
   ]
  },
  {
   "cell_type": "code",
   "execution_count": null,
   "id": "1d659248-5efe-4d41-98ae-66fdedf5e23a",
   "metadata": {},
   "outputs": [],
   "source": [
    "imgc = img.contiguous().cuda()"
   ]
  },
  {
   "cell_type": "code",
   "execution_count": null,
   "id": "2b1c7b73-c867-4d27-805c-750224f9c767",
   "metadata": {},
   "outputs": [],
   "source": [
    "%%time\n",
    "res = module.rgb_to_grayscale(imgc).cpu()\n",
    "h,w = res.shape\n",
    "h,w,h*w"
   ]
  },
  {
   "cell_type": "code",
   "execution_count": null,
   "id": "fe881b32-261e-4d58-8f35-056ea8fc9c1a",
   "metadata": {},
   "outputs": [],
   "source": [
    "show_img(res, cmap='gray')"
   ]
  },
  {
   "cell_type": "markdown",
   "id": "dd968fbe-60df-4644-ac31-2099ee8207d7",
   "metadata": {},
   "source": [
    "## Matmul"
   ]
  },
  {
   "cell_type": "markdown",
   "id": "f9a4e3c4-c7d6-4c3c-a6c7-f6202d78b6aa",
   "metadata": {},
   "source": [
    "### Get data"
   ]
  },
  {
   "cell_type": "code",
   "execution_count": null,
   "id": "b14b9d40-e252-424a-9d44-f7cea3fcdfb4",
   "metadata": {},
   "outputs": [],
   "source": [
    "import gzip,pickle\n",
    "from urllib.request import urlretrieve\n",
    "from pathlib import Path\n",
    "from torch import tensor"
   ]
  },
  {
   "cell_type": "code",
   "execution_count": null,
   "id": "78a41712-b8e5-45ca-8c2a-fe56d5c9a15e",
   "metadata": {},
   "outputs": [],
   "source": [
    "MNIST_URL='https://github.com/mnielsen/neural-networks-and-deep-learning/blob/master/data/mnist.pkl.gz?raw=true'\n",
    "path_data = Path('data')\n",
    "path_data.mkdir(exist_ok=True)\n",
    "path_gz = path_data/'mnist.pkl.gz'\n",
    "if not path_gz.exists(): urlretrieve(MNIST_URL, path_gz)"
   ]
  },
  {
   "cell_type": "code",
   "execution_count": null,
   "id": "65b7bd23-03e0-4f4a-b890-bd9084f4adff",
   "metadata": {},
   "outputs": [],
   "source": [
    "with gzip.open(path_gz, 'rb') as f: ((x_train, y_train), (x_valid, y_valid), _) = pickle.load(f, encoding='latin-1')\n",
    "x_train,y_train,x_valid,y_valid = map(tensor, (x_train,y_train,x_valid,y_valid))\n",
    "x_train.shape,x_train.type()"
   ]
  },
  {
   "cell_type": "code",
   "execution_count": null,
   "id": "802a9f81-cd22-4bdd-a327-d7c25a4e9659",
   "metadata": {},
   "outputs": [],
   "source": [
    "imgs = x_train.reshape((-1,28,28))\n",
    "imgs.shape"
   ]
  },
  {
   "cell_type": "code",
   "execution_count": null,
   "id": "c0e6cb3a-ea3d-40a3-b09d-9e41e0622467",
   "metadata": {},
   "outputs": [],
   "source": [
    "show_img(imgs[0], cmap='gray_r', figsize=(1,1))"
   ]
  },
  {
   "cell_type": "code",
   "execution_count": null,
   "id": "96db03a1-470f-4281-aec8-f380a2042df3",
   "metadata": {},
   "outputs": [],
   "source": [
    "torch.manual_seed(1)\n",
    "weights = torch.randn(784,10)\n",
    "weights"
   ]
  },
  {
   "cell_type": "markdown",
   "id": "e27dd979-a35d-43a8-9b72-9918a2f7fb6c",
   "metadata": {},
   "source": [
    "### Python matmul"
   ]
  },
  {
   "cell_type": "code",
   "execution_count": null,
   "id": "eb141f6e-9813-44cc-b153-ccad49347648",
   "metadata": {},
   "outputs": [],
   "source": [
    "m1 = x_valid[:5]\n",
    "m2 = weights\n",
    "m1.shape,m2.shape"
   ]
  },
  {
   "cell_type": "code",
   "execution_count": null,
   "id": "7247f303-e8fb-46eb-bbc9-abaa165f0ee3",
   "metadata": {},
   "outputs": [],
   "source": [
    "ar,ac = m1.shape # n_rows * n_cols\n",
    "br,bc = m2.shape\n",
    "(ar,ac),(br,bc)"
   ]
  },
  {
   "cell_type": "code",
   "execution_count": null,
   "id": "3f71d055-b2ec-4e9f-87f1-1d1da5937452",
   "metadata": {},
   "outputs": [],
   "source": [
    "t1 = torch.zeros(ar, bc)\n",
    "t1.shape"
   ]
  },
  {
   "cell_type": "code",
   "execution_count": null,
   "id": "034e2c1c-b8d9-4869-b62a-975c4d061895",
   "metadata": {},
   "outputs": [],
   "source": [
    "for i in range(ar):         # 5\n",
    "    for j in range(bc):     # 10\n",
    "        for k in range(ac): # 784\n",
    "            t1[i,j] += m1[i,k] * m2[k,j]"
   ]
  },
  {
   "cell_type": "code",
   "execution_count": null,
   "id": "680b7e85-bef0-4afd-896a-01cbfe4c335e",
   "metadata": {},
   "outputs": [],
   "source": [
    "t1.shape"
   ]
  },
  {
   "cell_type": "code",
   "execution_count": null,
   "id": "fac45192-62e2-4245-b0aa-a4ba00e3f47f",
   "metadata": {},
   "outputs": [],
   "source": [
    "import numpy as np\n",
    "np.set_printoptions(precision=2, linewidth=140)\n",
    "torch.set_printoptions(precision=2, linewidth=140, sci_mode=False)"
   ]
  },
  {
   "cell_type": "code",
   "execution_count": null,
   "id": "bef8a62a-e188-4dd0-8b98-b7a37d3888ba",
   "metadata": {},
   "outputs": [],
   "source": [
    "t1"
   ]
  },
  {
   "cell_type": "code",
   "execution_count": null,
   "id": "09804bc3-43e8-463b-8365-e962907ab088",
   "metadata": {},
   "outputs": [],
   "source": [
    "def matmul(a,b):\n",
    "    (ar,ac),(br,bc) = a.shape,b.shape\n",
    "    c = torch.zeros(ar, bc)\n",
    "    for i in range(ar):\n",
    "        for j in range(bc):\n",
    "            for k in range(ac): c[i,j] += a[i,k] * b[k,j]\n",
    "    return c"
   ]
  },
  {
   "cell_type": "code",
   "execution_count": null,
   "id": "d7d64a58-5422-4e2e-af1c-16f1cbdab391",
   "metadata": {},
   "outputs": [],
   "source": [
    "%time _=matmul(m1, m2)"
   ]
  },
  {
   "cell_type": "code",
   "execution_count": null,
   "id": "0fb0c5e7-d01a-4900-a32e-eb6424f8439c",
   "metadata": {},
   "outputs": [],
   "source": [
    "ar*bc*ac"
   ]
  },
  {
   "cell_type": "markdown",
   "id": "b4ac4099-e90d-4f19-a6e2-a24df81c9739",
   "metadata": {},
   "source": [
    "### 2d Python kernel"
   ]
  },
  {
   "cell_type": "code",
   "execution_count": null,
   "id": "434e5f38-5da2-4bac-9d95-e9d2b2042ff2",
   "metadata": {},
   "outputs": [],
   "source": [
    "from types import SimpleNamespace as ns"
   ]
  },
  {
   "cell_type": "code",
   "execution_count": null,
   "id": "2ef592ed-b605-46f5-b72d-662ab46a55e8",
   "metadata": {},
   "outputs": [],
   "source": [
    "def blk_kernel2d(f, blocks, threads, *args):\n",
    "    for i0 in range(blocks.y):\n",
    "        for i1 in range(blocks.x):\n",
    "            for j0 in range(threads.y):\n",
    "                for j1 in range(threads.x): f(ns(x=i1,y=i0), ns(x=j1,y=j0), threads, *args)"
   ]
  },
  {
   "cell_type": "code",
   "execution_count": null,
   "id": "62f8923f-8072-4f52-a644-6576f7dfe352",
   "metadata": {},
   "outputs": [],
   "source": [
    "def matmul_bk(blockidx, threadidx, blockdim, m, n, out, h, w, k):\n",
    "    r = blockidx.y*blockdim.y + threadidx.y\n",
    "    c = blockidx.x*blockdim.x + threadidx.x\n",
    "\n",
    "    if (r>=h or c>=w): return\n",
    "    o = 0.\n",
    "    for i in range(k): o += m[r*k+i] * n[i*w+c]\n",
    "    out[r*w+c] = o"
   ]
  },
  {
   "cell_type": "code",
   "execution_count": null,
   "id": "a53c2202-1169-4ac6-a477-82b82f3c5201",
   "metadata": {},
   "outputs": [],
   "source": [
    "def matmul_2d(m, n):\n",
    "    h,k  = m.shape\n",
    "    k2,w = n.shape\n",
    "    assert k==k2, \"Size mismatch!\"\n",
    "    output = torch.zeros(h, w, dtype=m.dtype)\n",
    "    tpb = ns(x=16,y=16)\n",
    "    blocks = ns(x=math.ceil(w/tpb.x), y=math.ceil(h/tpb.y))\n",
    "    blk_kernel2d(matmul_bk, blocks, tpb,\n",
    "                 m.flatten(), n.flatten(), output.flatten(), h, w, k)\n",
    "    return output"
   ]
  },
  {
   "cell_type": "code",
   "execution_count": null,
   "id": "dc868ac2-7e60-4a1e-8bba-b40e452b6ef9",
   "metadata": {},
   "outputs": [],
   "source": [
    "res = matmul_2d(m1, m2)\n",
    "torch.isclose(t1, res).all()"
   ]
  },
  {
   "cell_type": "markdown",
   "id": "903ab09b-bb28-47c2-9c82-94863056c149",
   "metadata": {},
   "source": [
    "### Broadcasting"
   ]
  },
  {
   "cell_type": "code",
   "execution_count": null,
   "id": "7b52029b-8570-4557-b162-d400f5b669d4",
   "metadata": {},
   "outputs": [],
   "source": [
    "def matmul(a,b):\n",
    "    (ar,ac),(br,bc) = a.shape,b.shape\n",
    "    c = torch.zeros(ar, bc)\n",
    "    for i in range(ar): c[i] = (a[i,:,None] * b).sum(dim=0)\n",
    "    return c"
   ]
  },
  {
   "cell_type": "code",
   "execution_count": null,
   "id": "10e2bda8-4823-459a-b618-82b9b20c8308",
   "metadata": {},
   "outputs": [],
   "source": [
    "torch.isclose(t1,matmul(m1, m2)).all()"
   ]
  },
  {
   "cell_type": "code",
   "execution_count": null,
   "id": "f4bbd2b4-b79a-41fe-a3de-ecb0673503b3",
   "metadata": {},
   "outputs": [],
   "source": [
    "%time _=matmul(m1, m2)"
   ]
  },
  {
   "cell_type": "code",
   "execution_count": null,
   "id": "88649ae9-4056-450f-bdfa-4d30a7183248",
   "metadata": {},
   "outputs": [],
   "source": [
    "m1 = x_train\n",
    "tr = matmul(m1, m2)\n",
    "tr.shape"
   ]
  },
  {
   "cell_type": "code",
   "execution_count": null,
   "id": "3a5dffcd-1cfd-423e-9e71-e83e59a7dca3",
   "metadata": {},
   "outputs": [],
   "source": [
    "%time _=matmul(m1, m2)"
   ]
  },
  {
   "cell_type": "code",
   "execution_count": null,
   "id": "d84742e1-4094-433d-97bd-7932482a63c1",
   "metadata": {},
   "outputs": [],
   "source": [
    "ar,ac = m1.shape\n",
    "br,bc = m2.shape\n",
    "ar*bc*ac"
   ]
  },
  {
   "cell_type": "markdown",
   "id": "af01b572-c0aa-41b0-8ba7-b48e3f899978",
   "metadata": {},
   "source": [
    "### CUDA matmul"
   ]
  },
  {
   "cell_type": "code",
   "execution_count": null,
   "id": "6dde8ea4-25c3-48fd-97d3-7a0d375dcd73",
   "metadata": {},
   "outputs": [],
   "source": [
    "cuda_src = cuda_begin + r'''\n",
    "__global__ void matmul_k(float* m, float* n, float* out, int h, int w, int k) {\n",
    "    int r = blockIdx.y*blockDim.y + threadIdx.y;\n",
    "    int c = blockIdx.x*blockDim.x + threadIdx.x;\n",
    "\n",
    "    if (r>=h || c>=w) return;\n",
    "    float o = 0;\n",
    "    for (int i = 0; i<k; ++i) o += m[r*k+i] * n[i*w+c];\n",
    "    out[r*w+c] = o;\n",
    "}\n",
    "\n",
    "torch::Tensor matmul(torch::Tensor m, torch::Tensor n) {\n",
    "    CHECK_INPUT(m); CHECK_INPUT(n);\n",
    "    int h = m.size(0);\n",
    "    int w = n.size(1);\n",
    "    int k = m.size(1);\n",
    "    TORCH_CHECK(k==n.size(0), \"Size mismatch!\");\n",
    "    auto output = torch::zeros({h, w}, m.options());\n",
    "\n",
    "    dim3 tpb(16,16);\n",
    "    dim3 blocks(cdiv(w, tpb.x), cdiv(h, tpb.y));\n",
    "    matmul_k<<<blocks, tpb>>>(\n",
    "        m.data_ptr<float>(), n.data_ptr<float>(), output.data_ptr<float>(), h, w, k);\n",
    "    C10_CUDA_KERNEL_LAUNCH_CHECK();\n",
    "    return output;\n",
    "}\n",
    "'''"
   ]
  },
  {
   "cell_type": "code",
   "execution_count": null,
   "id": "0de6d749-3922-4a30-a00a-60f153d59907",
   "metadata": {},
   "outputs": [],
   "source": [
    "cpp_src = \"torch::Tensor matmul(torch::Tensor m, torch::Tensor n);\""
   ]
  },
  {
   "cell_type": "code",
   "execution_count": null,
   "id": "25c0b6ea-c5cf-4bab-9f46-1de103e5ae68",
   "metadata": {},
   "outputs": [],
   "source": [
    "module = load_cuda(cuda_src, cpp_src, ['matmul'])"
   ]
  },
  {
   "cell_type": "code",
   "execution_count": null,
   "id": "49b0aa26-b9b6-4f5b-8223-5d6afad88bfa",
   "metadata": {},
   "outputs": [],
   "source": [
    "m1c,m2c = m1.contiguous().cuda(), m2.contiguous().cuda()"
   ]
  },
  {
   "cell_type": "code",
   "execution_count": null,
   "id": "09d45a98-0d7f-4e0e-b704-f979e53550cb",
   "metadata": {},
   "outputs": [],
   "source": [
    "torch.isclose(tr,module.matmul(m1c, m2c).cpu(), atol=1e-5).all()"
   ]
  },
  {
   "cell_type": "code",
   "execution_count": null,
   "id": "5342f1f0-8684-4d6c-814f-ab4b10995ad3",
   "metadata": {},
   "outputs": [],
   "source": [
    "%%time\n",
    "res=module.matmul(m1c, m2c).cpu()\n",
    "res.shape"
   ]
  },
  {
   "cell_type": "markdown",
   "id": "4c9bee22-2600-4f6c-a695-e6d9f0ee2177",
   "metadata": {},
   "source": [
    "### Pytorch"
   ]
  },
  {
   "cell_type": "code",
   "execution_count": null,
   "id": "44eb1f44-611d-4270-8054-4cd4217d3305",
   "metadata": {},
   "outputs": [],
   "source": [
    "torch.isclose(tr,(m1c@m2c).cpu(), atol=1e-5).all()"
   ]
  },
  {
   "cell_type": "code",
   "execution_count": null,
   "id": "3d25db36-fad7-4678-9657-cc4efb874276",
   "metadata": {},
   "outputs": [],
   "source": [
    "%timeit -n 10 _=(m1c@m2c).cpu()"
   ]
  },
  {
   "cell_type": "markdown",
   "id": "0ccf2fdc-6794-4409-9af8-be7280065c58",
   "metadata": {},
   "source": [
    "### RGB->Grey CUDA 3d"
   ]
  },
  {
   "cell_type": "code",
   "execution_count": null,
   "id": "b6617d51-3c42-45ec-9267-4bed0cb2439f",
   "metadata": {},
   "outputs": [],
   "source": [
    "cuda_src = cuda_begin + r'''\n",
    "__global__ void rgb_to_grayscale_kernel(unsigned char* x, unsigned char* out, int w, int h) {\n",
    "    int c = blockIdx.x*blockDim.x + threadIdx.x;\n",
    "    int r = blockIdx.y*blockDim.y + threadIdx.y;\n",
    "\n",
    "    if (c<w && r<h) {\n",
    "        int i = r*w + c;\n",
    "        int n = h*w;\n",
    "        out[i] = 0.2989*x[i] + 0.5870*x[i+n] + 0.1140*x[i+2*n];\n",
    "    }\n",
    "}\n",
    "\n",
    "torch::Tensor rgb_to_grayscale(torch::Tensor input) {\n",
    "    CHECK_INPUT(input);\n",
    "    int h = input.size(1);\n",
    "    int w = input.size(2);\n",
    "    torch::Tensor output = torch::empty({h,w}, input.options());\n",
    "    dim3 tpb(16,16);\n",
    "    dim3 blocks(cdiv(w, tpb.x), cdiv(h, tpb.y));\n",
    "    rgb_to_grayscale_kernel<<<blocks, tpb>>>(\n",
    "        input.data_ptr<unsigned char>(), output.data_ptr<unsigned char>(), w, h);\n",
    "    C10_CUDA_KERNEL_LAUNCH_CHECK();\n",
    "    return output;\n",
    "}'''\n",
    "\n",
    "cpp_src = \"torch::Tensor rgb_to_grayscale(torch::Tensor input);\""
   ]
  },
  {
   "cell_type": "code",
   "execution_count": null,
   "id": "38203af3-ed23-4866-88fb-6ae54b01a414",
   "metadata": {},
   "outputs": [],
   "source": [
    "module = load_cuda(cuda_src, cpp_src, ['rgb_to_grayscale'])"
   ]
  },
  {
   "cell_type": "code",
   "execution_count": null,
   "id": "c7a22330-baa1-4189-af17-0aa1ca398e42",
   "metadata": {},
   "outputs": [],
   "source": [
    "res = module.rgb_to_grayscale(imgc).cpu()\n",
    "show_img(res, cmap='gray')"
   ]
  }
 ],
 "metadata": {
  "kernelspec": {
   "display_name": "Python 3 (ipykernel)",
   "language": "python",
   "name": "python3"
  },
  "language_info": {
   "codemirror_mode": {
    "name": "ipython",
    "version": 3
   },
   "file_extension": ".py",
   "mimetype": "text/x-python",
   "name": "python",
   "nbconvert_exporter": "python",
   "pygments_lexer": "ipython3",
   "version": "3.11.9"
  }
 },
 "nbformat": 4,
 "nbformat_minor": 5
}
